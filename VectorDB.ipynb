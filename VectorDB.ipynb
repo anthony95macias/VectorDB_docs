{
 "cells": [
  {
   "cell_type": "markdown",
   "metadata": {},
   "source": [
    "## Installation of SpaCy"
   ]
  },
  {
   "cell_type": "code",
   "execution_count": 14,
   "metadata": {},
   "outputs": [
    {
     "name": "stdout",
     "output_type": "stream",
     "text": [
      "Requirement already satisfied: spacy in c:\\users\\s176444\\appdata\\local\\miniconda3\\lib\\site-packages (3.7.2)\n",
      "Requirement already satisfied: spacy-legacy<3.1.0,>=3.0.11 in c:\\users\\s176444\\appdata\\local\\miniconda3\\lib\\site-packages (from spacy) (3.0.12)\n",
      "Requirement already satisfied: spacy-loggers<2.0.0,>=1.0.0 in c:\\users\\s176444\\appdata\\local\\miniconda3\\lib\\site-packages (from spacy) (1.0.5)\n",
      "Requirement already satisfied: murmurhash<1.1.0,>=0.28.0 in c:\\users\\s176444\\appdata\\local\\miniconda3\\lib\\site-packages (from spacy) (1.0.10)\n",
      "Requirement already satisfied: cymem<2.1.0,>=2.0.2 in c:\\users\\s176444\\appdata\\local\\miniconda3\\lib\\site-packages (from spacy) (2.0.8)\n",
      "Requirement already satisfied: preshed<3.1.0,>=3.0.2 in c:\\users\\s176444\\appdata\\local\\miniconda3\\lib\\site-packages (from spacy) (3.0.9)\n",
      "Requirement already satisfied: thinc<8.3.0,>=8.1.8 in c:\\users\\s176444\\appdata\\local\\miniconda3\\lib\\site-packages (from spacy) (8.2.2)\n",
      "Requirement already satisfied: wasabi<1.2.0,>=0.9.1 in c:\\users\\s176444\\appdata\\local\\miniconda3\\lib\\site-packages (from spacy) (1.1.2)\n",
      "Requirement already satisfied: srsly<3.0.0,>=2.4.3 in c:\\users\\s176444\\appdata\\local\\miniconda3\\lib\\site-packages (from spacy) (2.4.8)\n",
      "Requirement already satisfied: catalogue<2.1.0,>=2.0.6 in c:\\users\\s176444\\appdata\\local\\miniconda3\\lib\\site-packages (from spacy) (2.0.10)\n",
      "Requirement already satisfied: weasel<0.4.0,>=0.1.0 in c:\\users\\s176444\\appdata\\local\\miniconda3\\lib\\site-packages (from spacy) (0.3.4)\n",
      "Requirement already satisfied: typer<0.10.0,>=0.3.0 in c:\\users\\s176444\\appdata\\local\\miniconda3\\lib\\site-packages (from spacy) (0.9.0)\n",
      "Requirement already satisfied: smart-open<7.0.0,>=5.2.1 in c:\\users\\s176444\\appdata\\local\\miniconda3\\lib\\site-packages (from spacy) (6.4.0)\n",
      "Requirement already satisfied: tqdm<5.0.0,>=4.38.0 in c:\\users\\s176444\\appdata\\local\\miniconda3\\lib\\site-packages (from spacy) (4.65.0)\n",
      "Requirement already satisfied: requests<3.0.0,>=2.13.0 in c:\\users\\s176444\\appdata\\local\\miniconda3\\lib\\site-packages (from spacy) (2.31.0)\n",
      "Requirement already satisfied: pydantic!=1.8,!=1.8.1,<3.0.0,>=1.7.4 in c:\\users\\s176444\\appdata\\local\\miniconda3\\lib\\site-packages (from spacy) (2.4.2)\n",
      "Requirement already satisfied: jinja2 in c:\\users\\s176444\\appdata\\local\\miniconda3\\lib\\site-packages (from spacy) (3.1.2)\n",
      "Requirement already satisfied: setuptools in c:\\users\\s176444\\appdata\\local\\miniconda3\\lib\\site-packages (from spacy) (68.0.0)\n",
      "Requirement already satisfied: packaging>=20.0 in c:\\users\\s176444\\appdata\\local\\miniconda3\\lib\\site-packages (from spacy) (23.1)\n",
      "Requirement already satisfied: langcodes<4.0.0,>=3.2.0 in c:\\users\\s176444\\appdata\\local\\miniconda3\\lib\\site-packages (from spacy) (3.3.0)\n",
      "Requirement already satisfied: numpy>=1.19.0 in c:\\users\\s176444\\appdata\\local\\miniconda3\\lib\\site-packages (from spacy) (1.26.1)\n",
      "Requirement already satisfied: annotated-types>=0.4.0 in c:\\users\\s176444\\appdata\\local\\miniconda3\\lib\\site-packages (from pydantic!=1.8,!=1.8.1,<3.0.0,>=1.7.4->spacy) (0.6.0)\n",
      "Requirement already satisfied: pydantic-core==2.10.1 in c:\\users\\s176444\\appdata\\local\\miniconda3\\lib\\site-packages (from pydantic!=1.8,!=1.8.1,<3.0.0,>=1.7.4->spacy) (2.10.1)\n",
      "Requirement already satisfied: typing-extensions>=4.6.1 in c:\\users\\s176444\\appdata\\local\\miniconda3\\lib\\site-packages (from pydantic!=1.8,!=1.8.1,<3.0.0,>=1.7.4->spacy) (4.8.0)\n",
      "Requirement already satisfied: charset-normalizer<4,>=2 in c:\\users\\s176444\\appdata\\local\\miniconda3\\lib\\site-packages (from requests<3.0.0,>=2.13.0->spacy) (2.0.4)\n",
      "Requirement already satisfied: idna<4,>=2.5 in c:\\users\\s176444\\appdata\\local\\miniconda3\\lib\\site-packages (from requests<3.0.0,>=2.13.0->spacy) (3.4)\n",
      "Requirement already satisfied: urllib3<3,>=1.21.1 in c:\\users\\s176444\\appdata\\local\\miniconda3\\lib\\site-packages (from requests<3.0.0,>=2.13.0->spacy) (1.26.18)\n",
      "Requirement already satisfied: certifi>=2017.4.17 in c:\\users\\s176444\\appdata\\local\\miniconda3\\lib\\site-packages (from requests<3.0.0,>=2.13.0->spacy) (2023.7.22)\n",
      "Requirement already satisfied: blis<0.8.0,>=0.7.8 in c:\\users\\s176444\\appdata\\local\\miniconda3\\lib\\site-packages (from thinc<8.3.0,>=8.1.8->spacy) (0.7.11)\n",
      "Requirement already satisfied: confection<1.0.0,>=0.0.1 in c:\\users\\s176444\\appdata\\local\\miniconda3\\lib\\site-packages (from thinc<8.3.0,>=8.1.8->spacy) (0.1.4)\n",
      "Requirement already satisfied: colorama in c:\\users\\s176444\\appdata\\local\\miniconda3\\lib\\site-packages (from tqdm<5.0.0,>=4.38.0->spacy) (0.4.6)\n",
      "Requirement already satisfied: click<9.0.0,>=7.1.1 in c:\\users\\s176444\\appdata\\local\\miniconda3\\lib\\site-packages (from typer<0.10.0,>=0.3.0->spacy) (8.1.7)\n",
      "Requirement already satisfied: cloudpathlib<0.17.0,>=0.7.0 in c:\\users\\s176444\\appdata\\local\\miniconda3\\lib\\site-packages (from weasel<0.4.0,>=0.1.0->spacy) (0.16.0)\n",
      "Requirement already satisfied: MarkupSafe>=2.0 in c:\\users\\s176444\\appdata\\local\\miniconda3\\lib\\site-packages (from jinja2->spacy) (2.1.3)\n"
     ]
    }
   ],
   "source": [
    "!pip install spacy"
   ]
  },
  {
   "cell_type": "code",
   "execution_count": 15,
   "metadata": {},
   "outputs": [],
   "source": [
    "import spacy\n",
    "import pathlib"
   ]
  },
  {
   "cell_type": "code",
   "execution_count": 16,
   "metadata": {},
   "outputs": [
    {
     "name": "stdout",
     "output_type": "stream",
     "text": [
      "Collecting en-core-web-sm==3.7.1\n",
      "  Downloading https://github.com/explosion/spacy-models/releases/download/en_core_web_sm-3.7.1/en_core_web_sm-3.7.1-py3-none-any.whl (12.8 MB)\n",
      "     ---------------------------------------- 0.0/12.8 MB ? eta -:--:--\n",
      "     ---------------------------------------- 0.0/12.8 MB ? eta -:--:--\n",
      "     --------------------------------------- 0.0/12.8 MB 330.3 kB/s eta 0:00:39\n",
      "     --------------------------------------- 0.0/12.8 MB 393.8 kB/s eta 0:00:33\n",
      "     --------------------------------------- 0.1/12.8 MB 819.2 kB/s eta 0:00:16\n",
      "     - -------------------------------------- 0.4/12.8 MB 2.3 MB/s eta 0:00:06\n",
      "     -- ------------------------------------- 0.6/12.8 MB 3.4 MB/s eta 0:00:04\n",
      "     --- ------------------------------------ 1.0/12.8 MB 4.3 MB/s eta 0:00:03\n",
      "     ---- ----------------------------------- 1.3/12.8 MB 4.9 MB/s eta 0:00:03\n",
      "     ----- ---------------------------------- 1.7/12.8 MB 5.7 MB/s eta 0:00:02\n",
      "     ------ --------------------------------- 2.1/12.8 MB 6.4 MB/s eta 0:00:02\n",
      "     ------- -------------------------------- 2.5/12.8 MB 6.8 MB/s eta 0:00:02\n",
      "     --------- ------------------------------ 3.0/12.8 MB 7.3 MB/s eta 0:00:02\n",
      "     ---------- ----------------------------- 3.4/12.8 MB 7.8 MB/s eta 0:00:02\n",
      "     ----------- ---------------------------- 3.8/12.8 MB 7.9 MB/s eta 0:00:02\n",
      "     ------------- -------------------------- 4.3/12.8 MB 8.2 MB/s eta 0:00:02\n",
      "     -------------- ------------------------- 4.7/12.8 MB 8.6 MB/s eta 0:00:01\n",
      "     ---------------- ----------------------- 5.1/12.8 MB 8.6 MB/s eta 0:00:01\n",
      "     ---------------- ----------------------- 5.3/12.8 MB 8.6 MB/s eta 0:00:01\n",
      "     ------------------ --------------------- 6.0/12.8 MB 9.1 MB/s eta 0:00:01\n",
      "     -------------------- ------------------- 6.5/12.8 MB 9.2 MB/s eta 0:00:01\n",
      "     --------------------- ------------------ 6.9/12.8 MB 9.3 MB/s eta 0:00:01\n",
      "     ---------------------- ----------------- 7.3/12.8 MB 9.3 MB/s eta 0:00:01\n",
      "     ------------------------ --------------- 7.7/12.8 MB 9.5 MB/s eta 0:00:01\n",
      "     ------------------------- -------------- 8.1/12.8 MB 9.6 MB/s eta 0:00:01\n",
      "     -------------------------- ------------- 8.6/12.8 MB 9.8 MB/s eta 0:00:01\n",
      "     ---------------------------- ----------- 9.0/12.8 MB 9.8 MB/s eta 0:00:01\n",
      "     ----------------------------- ---------- 9.5/12.8 MB 9.9 MB/s eta 0:00:01\n",
      "     ------------------------------ --------- 9.9/12.8 MB 10.0 MB/s eta 0:00:01\n",
      "     ------------------------------- ------- 10.3/12.8 MB 11.1 MB/s eta 0:00:01\n",
      "     -------------------------------- ------ 10.7/12.8 MB 11.5 MB/s eta 0:00:01\n",
      "     ---------------------------------- ---- 11.2/12.8 MB 11.7 MB/s eta 0:00:01\n",
      "     ----------------------------------- --- 11.6/12.8 MB 11.7 MB/s eta 0:00:01\n",
      "     ------------------------------------ -- 12.1/12.8 MB 11.9 MB/s eta 0:00:01\n",
      "     --------------------------------------  12.5/12.8 MB 11.7 MB/s eta 0:00:01\n",
      "     --------------------------------------  12.8/12.8 MB 11.9 MB/s eta 0:00:01\n",
      "     --------------------------------------  12.8/12.8 MB 11.9 MB/s eta 0:00:01\n",
      "     --------------------------------------- 12.8/12.8 MB 11.1 MB/s eta 0:00:00\n",
      "Requirement already satisfied: spacy<3.8.0,>=3.7.2 in c:\\users\\s176444\\appdata\\local\\miniconda3\\lib\\site-packages (from en-core-web-sm==3.7.1) (3.7.2)\n",
      "Requirement already satisfied: spacy-legacy<3.1.0,>=3.0.11 in c:\\users\\s176444\\appdata\\local\\miniconda3\\lib\\site-packages (from spacy<3.8.0,>=3.7.2->en-core-web-sm==3.7.1) (3.0.12)\n",
      "Requirement already satisfied: spacy-loggers<2.0.0,>=1.0.0 in c:\\users\\s176444\\appdata\\local\\miniconda3\\lib\\site-packages (from spacy<3.8.0,>=3.7.2->en-core-web-sm==3.7.1) (1.0.5)\n",
      "Requirement already satisfied: murmurhash<1.1.0,>=0.28.0 in c:\\users\\s176444\\appdata\\local\\miniconda3\\lib\\site-packages (from spacy<3.8.0,>=3.7.2->en-core-web-sm==3.7.1) (1.0.10)\n",
      "Requirement already satisfied: cymem<2.1.0,>=2.0.2 in c:\\users\\s176444\\appdata\\local\\miniconda3\\lib\\site-packages (from spacy<3.8.0,>=3.7.2->en-core-web-sm==3.7.1) (2.0.8)\n",
      "Requirement already satisfied: preshed<3.1.0,>=3.0.2 in c:\\users\\s176444\\appdata\\local\\miniconda3\\lib\\site-packages (from spacy<3.8.0,>=3.7.2->en-core-web-sm==3.7.1) (3.0.9)\n",
      "Requirement already satisfied: thinc<8.3.0,>=8.1.8 in c:\\users\\s176444\\appdata\\local\\miniconda3\\lib\\site-packages (from spacy<3.8.0,>=3.7.2->en-core-web-sm==3.7.1) (8.2.2)\n",
      "Requirement already satisfied: wasabi<1.2.0,>=0.9.1 in c:\\users\\s176444\\appdata\\local\\miniconda3\\lib\\site-packages (from spacy<3.8.0,>=3.7.2->en-core-web-sm==3.7.1) (1.1.2)\n",
      "Requirement already satisfied: srsly<3.0.0,>=2.4.3 in c:\\users\\s176444\\appdata\\local\\miniconda3\\lib\\site-packages (from spacy<3.8.0,>=3.7.2->en-core-web-sm==3.7.1) (2.4.8)\n",
      "Requirement already satisfied: catalogue<2.1.0,>=2.0.6 in c:\\users\\s176444\\appdata\\local\\miniconda3\\lib\\site-packages (from spacy<3.8.0,>=3.7.2->en-core-web-sm==3.7.1) (2.0.10)\n",
      "Requirement already satisfied: weasel<0.4.0,>=0.1.0 in c:\\users\\s176444\\appdata\\local\\miniconda3\\lib\\site-packages (from spacy<3.8.0,>=3.7.2->en-core-web-sm==3.7.1) (0.3.4)\n",
      "Requirement already satisfied: typer<0.10.0,>=0.3.0 in c:\\users\\s176444\\appdata\\local\\miniconda3\\lib\\site-packages (from spacy<3.8.0,>=3.7.2->en-core-web-sm==3.7.1) (0.9.0)\n",
      "Requirement already satisfied: smart-open<7.0.0,>=5.2.1 in c:\\users\\s176444\\appdata\\local\\miniconda3\\lib\\site-packages (from spacy<3.8.0,>=3.7.2->en-core-web-sm==3.7.1) (6.4.0)\n",
      "Requirement already satisfied: tqdm<5.0.0,>=4.38.0 in c:\\users\\s176444\\appdata\\local\\miniconda3\\lib\\site-packages (from spacy<3.8.0,>=3.7.2->en-core-web-sm==3.7.1) (4.65.0)\n",
      "Requirement already satisfied: requests<3.0.0,>=2.13.0 in c:\\users\\s176444\\appdata\\local\\miniconda3\\lib\\site-packages (from spacy<3.8.0,>=3.7.2->en-core-web-sm==3.7.1) (2.31.0)\n",
      "Requirement already satisfied: pydantic!=1.8,!=1.8.1,<3.0.0,>=1.7.4 in c:\\users\\s176444\\appdata\\local\\miniconda3\\lib\\site-packages (from spacy<3.8.0,>=3.7.2->en-core-web-sm==3.7.1) (2.4.2)\n",
      "Requirement already satisfied: jinja2 in c:\\users\\s176444\\appdata\\local\\miniconda3\\lib\\site-packages (from spacy<3.8.0,>=3.7.2->en-core-web-sm==3.7.1) (3.1.2)\n",
      "Requirement already satisfied: setuptools in c:\\users\\s176444\\appdata\\local\\miniconda3\\lib\\site-packages (from spacy<3.8.0,>=3.7.2->en-core-web-sm==3.7.1) (68.0.0)\n",
      "Requirement already satisfied: packaging>=20.0 in c:\\users\\s176444\\appdata\\local\\miniconda3\\lib\\site-packages (from spacy<3.8.0,>=3.7.2->en-core-web-sm==3.7.1) (23.1)\n",
      "Requirement already satisfied: langcodes<4.0.0,>=3.2.0 in c:\\users\\s176444\\appdata\\local\\miniconda3\\lib\\site-packages (from spacy<3.8.0,>=3.7.2->en-core-web-sm==3.7.1) (3.3.0)\n",
      "Requirement already satisfied: numpy>=1.19.0 in c:\\users\\s176444\\appdata\\local\\miniconda3\\lib\\site-packages (from spacy<3.8.0,>=3.7.2->en-core-web-sm==3.7.1) (1.26.1)\n",
      "Requirement already satisfied: annotated-types>=0.4.0 in c:\\users\\s176444\\appdata\\local\\miniconda3\\lib\\site-packages (from pydantic!=1.8,!=1.8.1,<3.0.0,>=1.7.4->spacy<3.8.0,>=3.7.2->en-core-web-sm==3.7.1) (0.6.0)\n",
      "Requirement already satisfied: pydantic-core==2.10.1 in c:\\users\\s176444\\appdata\\local\\miniconda3\\lib\\site-packages (from pydantic!=1.8,!=1.8.1,<3.0.0,>=1.7.4->spacy<3.8.0,>=3.7.2->en-core-web-sm==3.7.1) (2.10.1)\n",
      "Requirement already satisfied: typing-extensions>=4.6.1 in c:\\users\\s176444\\appdata\\local\\miniconda3\\lib\\site-packages (from pydantic!=1.8,!=1.8.1,<3.0.0,>=1.7.4->spacy<3.8.0,>=3.7.2->en-core-web-sm==3.7.1) (4.8.0)\n",
      "Requirement already satisfied: charset-normalizer<4,>=2 in c:\\users\\s176444\\appdata\\local\\miniconda3\\lib\\site-packages (from requests<3.0.0,>=2.13.0->spacy<3.8.0,>=3.7.2->en-core-web-sm==3.7.1) (2.0.4)\n",
      "Requirement already satisfied: idna<4,>=2.5 in c:\\users\\s176444\\appdata\\local\\miniconda3\\lib\\site-packages (from requests<3.0.0,>=2.13.0->spacy<3.8.0,>=3.7.2->en-core-web-sm==3.7.1) (3.4)\n",
      "Requirement already satisfied: urllib3<3,>=1.21.1 in c:\\users\\s176444\\appdata\\local\\miniconda3\\lib\\site-packages (from requests<3.0.0,>=2.13.0->spacy<3.8.0,>=3.7.2->en-core-web-sm==3.7.1) (1.26.18)\n",
      "Requirement already satisfied: certifi>=2017.4.17 in c:\\users\\s176444\\appdata\\local\\miniconda3\\lib\\site-packages (from requests<3.0.0,>=2.13.0->spacy<3.8.0,>=3.7.2->en-core-web-sm==3.7.1) (2023.7.22)\n",
      "Requirement already satisfied: blis<0.8.0,>=0.7.8 in c:\\users\\s176444\\appdata\\local\\miniconda3\\lib\\site-packages (from thinc<8.3.0,>=8.1.8->spacy<3.8.0,>=3.7.2->en-core-web-sm==3.7.1) (0.7.11)\n",
      "Requirement already satisfied: confection<1.0.0,>=0.0.1 in c:\\users\\s176444\\appdata\\local\\miniconda3\\lib\\site-packages (from thinc<8.3.0,>=8.1.8->spacy<3.8.0,>=3.7.2->en-core-web-sm==3.7.1) (0.1.4)\n",
      "Requirement already satisfied: colorama in c:\\users\\s176444\\appdata\\local\\miniconda3\\lib\\site-packages (from tqdm<5.0.0,>=4.38.0->spacy<3.8.0,>=3.7.2->en-core-web-sm==3.7.1) (0.4.6)\n",
      "Requirement already satisfied: click<9.0.0,>=7.1.1 in c:\\users\\s176444\\appdata\\local\\miniconda3\\lib\\site-packages (from typer<0.10.0,>=0.3.0->spacy<3.8.0,>=3.7.2->en-core-web-sm==3.7.1) (8.1.7)\n",
      "Requirement already satisfied: cloudpathlib<0.17.0,>=0.7.0 in c:\\users\\s176444\\appdata\\local\\miniconda3\\lib\\site-packages (from weasel<0.4.0,>=0.1.0->spacy<3.8.0,>=3.7.2->en-core-web-sm==3.7.1) (0.16.0)\n",
      "Requirement already satisfied: MarkupSafe>=2.0 in c:\\users\\s176444\\appdata\\local\\miniconda3\\lib\\site-packages (from jinja2->spacy<3.8.0,>=3.7.2->en-core-web-sm==3.7.1) (2.1.3)\n",
      "\u001b[38;5;2m✔ Download and installation successful\u001b[0m\n",
      "You can now load the package via spacy.load('en_core_web_sm')\n",
      "Collecting en-core-web-md==3.7.1\n",
      "  Downloading https://github.com/explosion/spacy-models/releases/download/en_core_web_md-3.7.1/en_core_web_md-3.7.1-py3-none-any.whl (42.8 MB)\n",
      "     ---------------------------------------- 0.0/42.8 MB ? eta -:--:--\n",
      "     ---------------------------------------- 0.0/42.8 MB ? eta -:--:--\n",
      "     ---------------------------------------- 0.0/42.8 MB ? eta -:--:--\n",
      "     --------------------------------------- 0.1/42.8 MB 544.7 kB/s eta 0:01:19\n",
      "     ---------------------------------------- 0.2/42.8 MB 1.8 MB/s eta 0:00:24\n",
      "      --------------------------------------- 0.5/42.8 MB 3.1 MB/s eta 0:00:14\n",
      "      --------------------------------------- 0.8/42.8 MB 4.1 MB/s eta 0:00:11\n",
      "     - -------------------------------------- 1.2/42.8 MB 5.1 MB/s eta 0:00:09\n",
      "     - -------------------------------------- 1.5/42.8 MB 5.4 MB/s eta 0:00:08\n",
      "     - -------------------------------------- 1.9/42.8 MB 6.1 MB/s eta 0:00:07\n",
      "     -- ------------------------------------- 2.3/42.8 MB 6.8 MB/s eta 0:00:06\n",
      "     -- ------------------------------------- 2.8/42.8 MB 7.0 MB/s eta 0:00:06\n",
      "     -- ------------------------------------- 3.2/42.8 MB 7.5 MB/s eta 0:00:06\n",
      "     --- ------------------------------------ 3.5/42.8 MB 7.7 MB/s eta 0:00:06\n",
      "     --- ------------------------------------ 3.8/42.8 MB 7.6 MB/s eta 0:00:06\n",
      "     --- ------------------------------------ 4.2/42.8 MB 7.9 MB/s eta 0:00:05\n",
      "     ---- ----------------------------------- 4.6/42.8 MB 8.1 MB/s eta 0:00:05\n",
      "     ---- ----------------------------------- 5.0/42.8 MB 8.2 MB/s eta 0:00:05\n",
      "     ---- ----------------------------------- 5.2/42.8 MB 8.1 MB/s eta 0:00:05\n",
      "     ----- ---------------------------------- 5.9/42.8 MB 8.8 MB/s eta 0:00:05\n",
      "     ----- ---------------------------------- 6.3/42.8 MB 8.8 MB/s eta 0:00:05\n",
      "     ------ --------------------------------- 6.8/42.8 MB 9.0 MB/s eta 0:00:04\n",
      "     ------ --------------------------------- 7.2/42.8 MB 9.2 MB/s eta 0:00:04\n",
      "     ------- -------------------------------- 7.6/42.8 MB 9.2 MB/s eta 0:00:04\n",
      "     ------- -------------------------------- 8.0/42.8 MB 9.3 MB/s eta 0:00:04\n",
      "     ------- -------------------------------- 8.3/42.8 MB 9.3 MB/s eta 0:00:04\n",
      "     -------- ------------------------------- 8.7/42.8 MB 9.3 MB/s eta 0:00:04\n",
      "     -------- ------------------------------- 9.1/42.8 MB 9.4 MB/s eta 0:00:04\n",
      "     -------- ------------------------------- 9.5/42.8 MB 9.4 MB/s eta 0:00:04\n",
      "     --------- ------------------------------ 9.9/42.8 MB 9.4 MB/s eta 0:00:04\n",
      "     --------- ------------------------------ 10.1/42.8 MB 9.4 MB/s eta 0:00:04\n",
      "     --------- ----------------------------- 10.5/42.8 MB 10.4 MB/s eta 0:00:04\n",
      "     --------- ----------------------------- 10.9/42.8 MB 10.6 MB/s eta 0:00:04\n",
      "     ---------- ---------------------------- 11.3/42.8 MB 10.6 MB/s eta 0:00:03\n",
      "     ---------- ---------------------------- 11.8/42.8 MB 10.7 MB/s eta 0:00:03\n",
      "     ----------- --------------------------- 12.2/42.8 MB 10.7 MB/s eta 0:00:03\n",
      "     ----------- --------------------------- 12.6/42.8 MB 10.9 MB/s eta 0:00:03\n",
      "     ----------- --------------------------- 13.0/42.8 MB 10.9 MB/s eta 0:00:03\n",
      "     ------------ -------------------------- 13.4/42.8 MB 10.7 MB/s eta 0:00:03\n",
      "     ------------ -------------------------- 13.9/42.8 MB 11.1 MB/s eta 0:00:03\n",
      "     ------------- ------------------------- 14.3/42.8 MB 11.1 MB/s eta 0:00:03\n",
      "     ------------- ------------------------- 14.7/42.8 MB 11.1 MB/s eta 0:00:03\n",
      "     ------------- ------------------------- 15.1/42.8 MB 11.1 MB/s eta 0:00:03\n",
      "     -------------- ------------------------ 15.6/42.8 MB 11.5 MB/s eta 0:00:03\n",
      "     -------------- ------------------------ 16.0/42.8 MB 11.1 MB/s eta 0:00:03\n",
      "     -------------- ------------------------ 16.4/42.8 MB 11.1 MB/s eta 0:00:03\n",
      "     --------------- ----------------------- 16.9/42.8 MB 11.1 MB/s eta 0:00:03\n",
      "     --------------- ----------------------- 17.3/42.8 MB 11.1 MB/s eta 0:00:03\n",
      "     ---------------- ---------------------- 17.7/42.8 MB 11.1 MB/s eta 0:00:03\n",
      "     ---------------- ---------------------- 18.2/42.8 MB 11.1 MB/s eta 0:00:03\n",
      "     ---------------- ---------------------- 18.6/42.8 MB 11.3 MB/s eta 0:00:03\n",
      "     ----------------- --------------------- 19.1/42.8 MB 11.3 MB/s eta 0:00:03\n",
      "     ----------------- --------------------- 19.5/42.8 MB 11.3 MB/s eta 0:00:03\n",
      "     ------------------ -------------------- 19.9/42.8 MB 11.3 MB/s eta 0:00:03\n",
      "     ------------------ -------------------- 20.3/42.8 MB 11.7 MB/s eta 0:00:02\n",
      "     ------------------ -------------------- 20.8/42.8 MB 11.7 MB/s eta 0:00:02\n",
      "     ------------------- ------------------- 21.2/42.8 MB 11.7 MB/s eta 0:00:02\n",
      "     ------------------- ------------------- 21.5/42.8 MB 11.7 MB/s eta 0:00:02\n",
      "     ------------------- ------------------- 21.8/42.8 MB 11.7 MB/s eta 0:00:02\n",
      "     -------------------- ------------------ 22.0/42.8 MB 11.3 MB/s eta 0:00:02\n",
      "     -------------------- ------------------ 22.3/42.8 MB 11.1 MB/s eta 0:00:02\n",
      "     -------------------- ------------------ 22.5/42.8 MB 10.7 MB/s eta 0:00:02\n",
      "     -------------------- ------------------ 23.0/42.8 MB 10.9 MB/s eta 0:00:02\n",
      "     --------------------- ----------------- 23.2/42.8 MB 10.7 MB/s eta 0:00:02\n",
      "     --------------------- ----------------- 23.7/42.8 MB 10.7 MB/s eta 0:00:02\n",
      "     --------------------- ----------------- 24.1/42.8 MB 10.7 MB/s eta 0:00:02\n",
      "     ---------------------- ---------------- 24.5/42.8 MB 10.9 MB/s eta 0:00:02\n",
      "     ---------------------- ---------------- 24.9/42.8 MB 10.6 MB/s eta 0:00:02\n",
      "     ---------------------- ---------------- 25.2/42.8 MB 10.6 MB/s eta 0:00:02\n",
      "     ----------------------- --------------- 25.6/42.8 MB 10.6 MB/s eta 0:00:02\n",
      "     ----------------------- --------------- 26.0/42.8 MB 10.4 MB/s eta 0:00:02\n",
      "     ------------------------ -------------- 26.4/42.8 MB 10.6 MB/s eta 0:00:02\n",
      "     ------------------------ -------------- 26.8/42.8 MB 10.6 MB/s eta 0:00:02\n",
      "     ------------------------ -------------- 27.2/42.8 MB 10.4 MB/s eta 0:00:02\n",
      "     ------------------------- ------------- 27.5/42.8 MB 10.4 MB/s eta 0:00:02\n",
      "     ------------------------- ------------- 27.9/42.8 MB 10.4 MB/s eta 0:00:02\n",
      "     ------------------------- ------------- 28.3/42.8 MB 10.4 MB/s eta 0:00:02\n",
      "     -------------------------- ------------ 28.8/42.8 MB 10.2 MB/s eta 0:00:02\n",
      "     -------------------------- ------------ 29.2/42.8 MB 10.4 MB/s eta 0:00:02\n",
      "     -------------------------- ------------ 29.6/42.8 MB 10.2 MB/s eta 0:00:02\n",
      "     --------------------------- ----------- 30.0/42.8 MB 10.2 MB/s eta 0:00:02\n",
      "     --------------------------- ----------- 30.5/42.8 MB 10.4 MB/s eta 0:00:02\n",
      "     ---------------------------- ---------- 30.9/42.8 MB 10.2 MB/s eta 0:00:02\n",
      "     ---------------------------- ---------- 31.3/42.8 MB 10.2 MB/s eta 0:00:02\n",
      "     ---------------------------- ---------- 31.7/42.8 MB 10.2 MB/s eta 0:00:02\n",
      "     ----------------------------- --------- 32.2/42.8 MB 10.6 MB/s eta 0:00:02\n",
      "     ----------------------------- --------- 32.6/42.8 MB 11.1 MB/s eta 0:00:01\n",
      "     ------------------------------ -------- 33.1/42.8 MB 10.9 MB/s eta 0:00:01\n",
      "     ------------------------------ -------- 33.4/42.8 MB 11.1 MB/s eta 0:00:01\n",
      "     ------------------------------ -------- 33.8/42.8 MB 10.9 MB/s eta 0:00:01\n",
      "     ------------------------------- ------- 34.2/42.8 MB 10.9 MB/s eta 0:00:01\n",
      "     ------------------------------- ------- 34.6/42.8 MB 11.1 MB/s eta 0:00:01\n",
      "     ------------------------------- ------- 35.1/42.8 MB 10.9 MB/s eta 0:00:01\n",
      "     -------------------------------- ------ 35.5/42.8 MB 11.1 MB/s eta 0:00:01\n",
      "     -------------------------------- ------ 35.8/42.8 MB 11.3 MB/s eta 0:00:01\n",
      "     -------------------------------- ------ 36.0/42.8 MB 10.7 MB/s eta 0:00:01\n",
      "     -------------------------------- ------ 36.0/42.8 MB 10.6 MB/s eta 0:00:01\n",
      "     --------------------------------- ----- 36.2/42.8 MB 10.4 MB/s eta 0:00:01\n",
      "     --------------------------------- ----- 36.4/42.8 MB 10.1 MB/s eta 0:00:01\n",
      "     ---------------------------------- ----- 36.6/42.8 MB 9.9 MB/s eta 0:00:01\n",
      "     ---------------------------------- ----- 37.0/42.8 MB 9.9 MB/s eta 0:00:01\n",
      "     ---------------------------------- ----- 37.3/42.8 MB 9.8 MB/s eta 0:00:01\n",
      "     ----------------------------------- ---- 37.8/42.8 MB 9.9 MB/s eta 0:00:01\n",
      "     ---------------------------------- ---- 38.2/42.8 MB 10.1 MB/s eta 0:00:01\n",
      "     ----------------------------------- --- 38.6/42.8 MB 10.2 MB/s eta 0:00:01\n",
      "     ----------------------------------- --- 39.1/42.8 MB 10.1 MB/s eta 0:00:01\n",
      "     ------------------------------------ -- 39.5/42.8 MB 10.1 MB/s eta 0:00:01\n",
      "     ------------------------------------- -- 40.0/42.8 MB 9.9 MB/s eta 0:00:01\n",
      "     ------------------------------------ -- 40.4/42.8 MB 10.1 MB/s eta 0:00:01\n",
      "     -------------------------------------- - 40.8/42.8 MB 9.9 MB/s eta 0:00:01\n",
      "     ------------------------------------- - 41.2/42.8 MB 10.1 MB/s eta 0:00:01\n",
      "     --------------------------------------  41.7/42.8 MB 10.1 MB/s eta 0:00:01\n",
      "     ---------------------------------------  42.1/42.8 MB 9.9 MB/s eta 0:00:01\n",
      "     --------------------------------------  42.5/42.8 MB 10.1 MB/s eta 0:00:01\n",
      "     --------------------------------------  42.8/42.8 MB 10.1 MB/s eta 0:00:01\n",
      "     --------------------------------------  42.8/42.8 MB 10.1 MB/s eta 0:00:01\n",
      "     --------------------------------------  42.8/42.8 MB 10.1 MB/s eta 0:00:01\n",
      "     --------------------------------------  42.8/42.8 MB 10.1 MB/s eta 0:00:01\n",
      "     ---------------------------------------- 42.8/42.8 MB 8.7 MB/s eta 0:00:00\n",
      "Requirement already satisfied: spacy<3.8.0,>=3.7.2 in c:\\users\\s176444\\appdata\\local\\miniconda3\\lib\\site-packages (from en-core-web-md==3.7.1) (3.7.2)\n",
      "Requirement already satisfied: spacy-legacy<3.1.0,>=3.0.11 in c:\\users\\s176444\\appdata\\local\\miniconda3\\lib\\site-packages (from spacy<3.8.0,>=3.7.2->en-core-web-md==3.7.1) (3.0.12)\n",
      "Requirement already satisfied: spacy-loggers<2.0.0,>=1.0.0 in c:\\users\\s176444\\appdata\\local\\miniconda3\\lib\\site-packages (from spacy<3.8.0,>=3.7.2->en-core-web-md==3.7.1) (1.0.5)\n",
      "Requirement already satisfied: murmurhash<1.1.0,>=0.28.0 in c:\\users\\s176444\\appdata\\local\\miniconda3\\lib\\site-packages (from spacy<3.8.0,>=3.7.2->en-core-web-md==3.7.1) (1.0.10)\n",
      "Requirement already satisfied: cymem<2.1.0,>=2.0.2 in c:\\users\\s176444\\appdata\\local\\miniconda3\\lib\\site-packages (from spacy<3.8.0,>=3.7.2->en-core-web-md==3.7.1) (2.0.8)\n",
      "Requirement already satisfied: preshed<3.1.0,>=3.0.2 in c:\\users\\s176444\\appdata\\local\\miniconda3\\lib\\site-packages (from spacy<3.8.0,>=3.7.2->en-core-web-md==3.7.1) (3.0.9)\n",
      "Requirement already satisfied: thinc<8.3.0,>=8.1.8 in c:\\users\\s176444\\appdata\\local\\miniconda3\\lib\\site-packages (from spacy<3.8.0,>=3.7.2->en-core-web-md==3.7.1) (8.2.2)\n",
      "Requirement already satisfied: wasabi<1.2.0,>=0.9.1 in c:\\users\\s176444\\appdata\\local\\miniconda3\\lib\\site-packages (from spacy<3.8.0,>=3.7.2->en-core-web-md==3.7.1) (1.1.2)\n",
      "Requirement already satisfied: srsly<3.0.0,>=2.4.3 in c:\\users\\s176444\\appdata\\local\\miniconda3\\lib\\site-packages (from spacy<3.8.0,>=3.7.2->en-core-web-md==3.7.1) (2.4.8)\n",
      "Requirement already satisfied: catalogue<2.1.0,>=2.0.6 in c:\\users\\s176444\\appdata\\local\\miniconda3\\lib\\site-packages (from spacy<3.8.0,>=3.7.2->en-core-web-md==3.7.1) (2.0.10)\n",
      "Requirement already satisfied: weasel<0.4.0,>=0.1.0 in c:\\users\\s176444\\appdata\\local\\miniconda3\\lib\\site-packages (from spacy<3.8.0,>=3.7.2->en-core-web-md==3.7.1) (0.3.4)\n",
      "Requirement already satisfied: typer<0.10.0,>=0.3.0 in c:\\users\\s176444\\appdata\\local\\miniconda3\\lib\\site-packages (from spacy<3.8.0,>=3.7.2->en-core-web-md==3.7.1) (0.9.0)\n",
      "Requirement already satisfied: smart-open<7.0.0,>=5.2.1 in c:\\users\\s176444\\appdata\\local\\miniconda3\\lib\\site-packages (from spacy<3.8.0,>=3.7.2->en-core-web-md==3.7.1) (6.4.0)\n",
      "Requirement already satisfied: tqdm<5.0.0,>=4.38.0 in c:\\users\\s176444\\appdata\\local\\miniconda3\\lib\\site-packages (from spacy<3.8.0,>=3.7.2->en-core-web-md==3.7.1) (4.65.0)\n",
      "Requirement already satisfied: requests<3.0.0,>=2.13.0 in c:\\users\\s176444\\appdata\\local\\miniconda3\\lib\\site-packages (from spacy<3.8.0,>=3.7.2->en-core-web-md==3.7.1) (2.31.0)\n",
      "Requirement already satisfied: pydantic!=1.8,!=1.8.1,<3.0.0,>=1.7.4 in c:\\users\\s176444\\appdata\\local\\miniconda3\\lib\\site-packages (from spacy<3.8.0,>=3.7.2->en-core-web-md==3.7.1) (2.4.2)\n",
      "Requirement already satisfied: jinja2 in c:\\users\\s176444\\appdata\\local\\miniconda3\\lib\\site-packages (from spacy<3.8.0,>=3.7.2->en-core-web-md==3.7.1) (3.1.2)\n",
      "Requirement already satisfied: setuptools in c:\\users\\s176444\\appdata\\local\\miniconda3\\lib\\site-packages (from spacy<3.8.0,>=3.7.2->en-core-web-md==3.7.1) (68.0.0)\n",
      "Requirement already satisfied: packaging>=20.0 in c:\\users\\s176444\\appdata\\local\\miniconda3\\lib\\site-packages (from spacy<3.8.0,>=3.7.2->en-core-web-md==3.7.1) (23.1)\n",
      "Requirement already satisfied: langcodes<4.0.0,>=3.2.0 in c:\\users\\s176444\\appdata\\local\\miniconda3\\lib\\site-packages (from spacy<3.8.0,>=3.7.2->en-core-web-md==3.7.1) (3.3.0)\n",
      "Requirement already satisfied: numpy>=1.19.0 in c:\\users\\s176444\\appdata\\local\\miniconda3\\lib\\site-packages (from spacy<3.8.0,>=3.7.2->en-core-web-md==3.7.1) (1.26.1)\n",
      "Requirement already satisfied: annotated-types>=0.4.0 in c:\\users\\s176444\\appdata\\local\\miniconda3\\lib\\site-packages (from pydantic!=1.8,!=1.8.1,<3.0.0,>=1.7.4->spacy<3.8.0,>=3.7.2->en-core-web-md==3.7.1) (0.6.0)\n",
      "Requirement already satisfied: pydantic-core==2.10.1 in c:\\users\\s176444\\appdata\\local\\miniconda3\\lib\\site-packages (from pydantic!=1.8,!=1.8.1,<3.0.0,>=1.7.4->spacy<3.8.0,>=3.7.2->en-core-web-md==3.7.1) (2.10.1)\n",
      "Requirement already satisfied: typing-extensions>=4.6.1 in c:\\users\\s176444\\appdata\\local\\miniconda3\\lib\\site-packages (from pydantic!=1.8,!=1.8.1,<3.0.0,>=1.7.4->spacy<3.8.0,>=3.7.2->en-core-web-md==3.7.1) (4.8.0)\n",
      "Requirement already satisfied: charset-normalizer<4,>=2 in c:\\users\\s176444\\appdata\\local\\miniconda3\\lib\\site-packages (from requests<3.0.0,>=2.13.0->spacy<3.8.0,>=3.7.2->en-core-web-md==3.7.1) (2.0.4)\n",
      "Requirement already satisfied: idna<4,>=2.5 in c:\\users\\s176444\\appdata\\local\\miniconda3\\lib\\site-packages (from requests<3.0.0,>=2.13.0->spacy<3.8.0,>=3.7.2->en-core-web-md==3.7.1) (3.4)\n",
      "Requirement already satisfied: urllib3<3,>=1.21.1 in c:\\users\\s176444\\appdata\\local\\miniconda3\\lib\\site-packages (from requests<3.0.0,>=2.13.0->spacy<3.8.0,>=3.7.2->en-core-web-md==3.7.1) (1.26.18)\n",
      "Requirement already satisfied: certifi>=2017.4.17 in c:\\users\\s176444\\appdata\\local\\miniconda3\\lib\\site-packages (from requests<3.0.0,>=2.13.0->spacy<3.8.0,>=3.7.2->en-core-web-md==3.7.1) (2023.7.22)\n",
      "Requirement already satisfied: blis<0.8.0,>=0.7.8 in c:\\users\\s176444\\appdata\\local\\miniconda3\\lib\\site-packages (from thinc<8.3.0,>=8.1.8->spacy<3.8.0,>=3.7.2->en-core-web-md==3.7.1) (0.7.11)\n",
      "Requirement already satisfied: confection<1.0.0,>=0.0.1 in c:\\users\\s176444\\appdata\\local\\miniconda3\\lib\\site-packages (from thinc<8.3.0,>=8.1.8->spacy<3.8.0,>=3.7.2->en-core-web-md==3.7.1) (0.1.4)\n",
      "Requirement already satisfied: colorama in c:\\users\\s176444\\appdata\\local\\miniconda3\\lib\\site-packages (from tqdm<5.0.0,>=4.38.0->spacy<3.8.0,>=3.7.2->en-core-web-md==3.7.1) (0.4.6)\n",
      "Requirement already satisfied: click<9.0.0,>=7.1.1 in c:\\users\\s176444\\appdata\\local\\miniconda3\\lib\\site-packages (from typer<0.10.0,>=0.3.0->spacy<3.8.0,>=3.7.2->en-core-web-md==3.7.1) (8.1.7)\n",
      "Requirement already satisfied: cloudpathlib<0.17.0,>=0.7.0 in c:\\users\\s176444\\appdata\\local\\miniconda3\\lib\\site-packages (from weasel<0.4.0,>=0.1.0->spacy<3.8.0,>=3.7.2->en-core-web-md==3.7.1) (0.16.0)\n",
      "Requirement already satisfied: MarkupSafe>=2.0 in c:\\users\\s176444\\appdata\\local\\miniconda3\\lib\\site-packages (from jinja2->spacy<3.8.0,>=3.7.2->en-core-web-md==3.7.1) (2.1.3)\n",
      "\u001b[38;5;2m✔ Download and installation successful\u001b[0m\n",
      "You can now load the package via spacy.load('en_core_web_md')\n"
     ]
    }
   ],
   "source": [
    "!python -m spacy download en_core_web_sm\n",
    "!python -m spacy download en_core_web_md"
   ]
  },
  {
   "cell_type": "code",
   "execution_count": 19,
   "metadata": {},
   "outputs": [
    {
     "ename": "SyntaxError",
     "evalue": "(unicode error) 'unicodeescape' codec can't decode bytes in position 2-3: truncated \\UXXXXXXXX escape (2698012263.py, line 22)",
     "output_type": "error",
     "traceback": [
      "\u001b[1;36m  Cell \u001b[1;32mIn[19], line 22\u001b[1;36m\u001b[0m\n\u001b[1;33m    base_directory = 'C:\\Users\\s176444\\Documents\\Vectordb\\VectorDB_docs'\u001b[0m\n\u001b[1;37m                                                                        ^\u001b[0m\n\u001b[1;31mSyntaxError\u001b[0m\u001b[1;31m:\u001b[0m (unicode error) 'unicodeescape' codec can't decode bytes in position 2-3: truncated \\UXXXXXXXX escape\n"
     ]
    }
   ],
   "source": [
    "import os\n",
    "import spacy\n",
    "import shutil\n",
    "\n",
    "# Run the spacy download commands\n",
    "os.system('python -m spacy download en_core_web_sm')\n",
    "os.system('python -m spacy download en_core_web_md')\n",
    "\n",
    "# Function to get the installation path of a spacy model\n",
    "def get_model_path(model_name):\n",
    "    try:\n",
    "        model = spacy.load(model_name)\n",
    "        return model.path\n",
    "    except OSError:\n",
    "        print(f\"Model {model_name} is not installed.\")\n",
    "        return None\n",
    "\n",
    "# Folder names for the downloaded models\n",
    "models = ['en_core_web_sm', 'en_core_web_md']\n",
    "\n",
    "# Base directory where you want to save the models\n",
    "base_directory = 'C:\\Users\\s176444\\Documents\\Vectordb\\VectorDB_docs'\n",
    "\n",
    "# New folder to save the models (within the base     directory)\n",
    "new_folder_path = os.path.join(base_directory, 'spacy data')\n",
    "os.makedirs(new_folder_path, exist_ok=True)\n",
    "\n",
    "# Copy the models to the new folder\n",
    "for model in models:\n",
    "    model_path = get_model_path(model)\n",
    "    if model_path:\n",
    "        shutil.copytree(model_path, os.path.join(new_folder_path, model))\n"
   ]
  },
  {
   "cell_type": "markdown",
   "metadata": {},
   "source": [
    "### **The Doc Object for Processed Text**"
   ]
  },
  {
   "cell_type": "code",
   "execution_count": 26,
   "metadata": {},
   "outputs": [
    {
     "name": "stdout",
     "output_type": "stream",
     "text": [
      "['This', 'tutorial', 'is', 'about', 'Natural', 'Language', 'Processing', 'in', 'spaCy', '.']\n"
     ]
    }
   ],
   "source": [
    "import spacy\n",
    "import pathlib\n",
    "\n",
    "# Sample text to be written to the file\n",
    "sample_text = \"This tutorial is about Natural Language Processing in spaCy.\"\n",
    "\n",
    "# Path for the text file using double backslashes\n",
    "file_path = pathlib.Path('C:\\\\Users\\\\s176444\\\\Documents\\\\Vectordb\\\\VectorDB_docs\\\\introduction.txt')\n",
    "\n",
    "# Write the sample text to the file\n",
    "with file_path.open(mode='w', encoding='utf-8') as file:\n",
    "    file.write(sample_text)\n",
    "\n",
    "# Load the spaCy model\n",
    "nlp = spacy.load(\"en_core_web_sm\")\n",
    "\n",
    "# Read the file and process it with spaCy\n",
    "introduction_doc = nlp(file_path.read_text(encoding=\"utf-8\"))\n",
    "\n",
    "# Print tokens from the document\n",
    "print([token.text for token in introduction_doc])\n"
   ]
  },
  {
   "cell_type": "code",
   "execution_count": 27,
   "metadata": {},
   "outputs": [
    {
     "name": "stdout",
     "output_type": "stream",
     "text": [
      "['This', 'tutorial', 'is', 'about', 'Natural', 'Language', 'Processing', 'in', 'spaCy', '.']\n"
     ]
    }
   ],
   "source": [
    "import pathlib\n",
    "file_name = \"introduction.txt\"\n",
    "introduction_doc = nlp(pathlib.Path(file_name).read_text(encoding=\"utf-8\"))\n",
    "print ([token.text for token in introduction_doc])"
   ]
  },
  {
   "cell_type": "code",
   "execution_count": 36,
   "metadata": {},
   "outputs": [],
   "source": [
    "#https://realpython.com/natural-language-processing-spacy-python/"
   ]
  },
  {
   "cell_type": "code",
   "execution_count": 40,
   "metadata": {},
   "outputs": [
    {
     "data": {
      "text/plain": [
       "2"
      ]
     },
     "execution_count": 40,
     "metadata": {},
     "output_type": "execute_result"
    }
   ],
   "source": [
    "about_text = (\n",
    "        \"Gus Proto is a Python developer currently \"\n",
    "        \"working for a London-based Fintech \"\n",
    "        \"company. He is interested in learning \"\n",
    "        \"Natural Language Processing.\"\n",
    ")\n",
    "\n",
    "about_doc = nlp(about_text)\n",
    "\n",
    "sentences = list(about_doc.sents)\n",
    "len(sentences)"
   ]
  },
  {
   "cell_type": "code",
   "execution_count": 42,
   "metadata": {},
   "outputs": [
    {
     "name": "stdout",
     "output_type": "stream",
     "text": [
      "Gus Proto is a Python...\n",
      "He is interested in learning...\n"
     ]
    }
   ],
   "source": [
    "for sentence in sentences:\n",
    "    print(f'{sentence [:5]}...')"
   ]
  },
  {
   "cell_type": "code",
   "execution_count": 67,
   "metadata": {},
   "outputs": [],
   "source": [
    "ellipsis_text = (\n",
    "    \"Gus, can you, ... never mind, I forgot \"\n",
    "    \"what i was saying. So, do you think \"\n",
    "    \"we should ... \"\n",
    ")"
   ]
  },
  {
   "cell_type": "code",
   "execution_count": 68,
   "metadata": {},
   "outputs": [],
   "source": [
    "from spacy.language import Language\n",
    "\n",
    "@Language.component(\"set_custom_boundaries\")\n",
    "def set_custom_boundaries(doc):\n",
    "    \"\"\"add support to use `...` as a delimiter for sentence detection\"\"\"\n",
    "    for token in doc[:-1]:\n",
    "        if token.text == \"...\":\n",
    "            doc[token.i + 1].is_sent_start = True\n",
    "    return doc\n"
   ]
  },
  {
   "cell_type": "code",
   "execution_count": 69,
   "metadata": {},
   "outputs": [
    {
     "name": "stdout",
     "output_type": "stream",
     "text": [
      "Gus, can you, ...\n",
      "never mind, I forgot what i was saying.\n",
      "So, do you think we should ...\n"
     ]
    }
   ],
   "source": [
    "custom_nlp = spacy.load(\"en_core_web_sm\")\n",
    "custom_nlp.add_pipe(\"set_custom_boundaries\", before=\"parser\")\n",
    "custom_ellipsis_doc = custom_nlp(ellipsis_text)\n",
    "custom_ellipsis_sentences = list(custom_ellipsis_doc.sents)\n",
    "for sentence in custom_ellipsis_sentences:\n",
    "    print(sentence)\n",
    "    "
   ]
  },
  {
   "cell_type": "code",
   "execution_count": 70,
   "metadata": {},
   "outputs": [
    {
     "name": "stdout",
     "output_type": "stream",
     "text": [
      "Gus 0\n",
      "Proto 4\n",
      "is 10\n",
      "a 13\n",
      "Python 15\n",
      "developer 22\n",
      "currently 32\n",
      "working 42\n",
      "for 50\n",
      "a 54\n",
      "London 56\n",
      "- 62\n",
      "based 63\n",
      "Fintech 69\n",
      "company 77\n",
      ". 84\n",
      "He 86\n",
      "is 89\n",
      "interested 92\n",
      "in 103\n",
      "learning 106\n",
      "Natural 115\n",
      "Language 123\n",
      "Processing 132\n",
      ". 142\n"
     ]
    }
   ],
   "source": [
    "for token in about_doc:\n",
    "    print(token, token.idx)"
   ]
  }
 ],
 "metadata": {
  "kernelspec": {
   "display_name": "snowflakes",
   "language": "python",
   "name": "python3"
  },
  "language_info": {
   "codemirror_mode": {
    "name": "ipython",
    "version": 3
   },
   "file_extension": ".py",
   "mimetype": "text/x-python",
   "name": "python",
   "nbconvert_exporter": "python",
   "pygments_lexer": "ipython3",
   "version": "3.11.5"
  }
 },
 "nbformat": 4,
 "nbformat_minor": 2
}
