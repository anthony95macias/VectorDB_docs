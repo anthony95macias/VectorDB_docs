{
 "cells": [
  {
   "cell_type": "markdown",
   "metadata": {},
   "source": [
    "## Installation of SpaCy"
   ]
  },
  {
   "cell_type": "code",
   "execution_count": null,
   "metadata": {},
   "outputs": [],
   "source": [
    "!pip install spacy"
   ]
  },
  {
   "cell_type": "code",
   "execution_count": 29,
   "metadata": {},
   "outputs": [],
   "source": [
    "import spacy\n",
    "import pathlib"
   ]
  },
  {
   "cell_type": "code",
   "execution_count": null,
   "metadata": {},
   "outputs": [],
   "source": [
    "!python -m spacy download en_core_web_sm\n",
    "!python -m spacy download en_core_web_md"
   ]
  },
  {
   "cell_type": "code",
   "execution_count": 14,
   "metadata": {},
   "outputs": [],
   "source": [
    "import os\n",
    "import spacy\n",
    "import shutil\n",
    "\n",
    "# Run the spacy download commands\n",
    "os.system('python -m spacy download en_core_web_sm')\n",
    "os.system('python -m spacy download en_core_web_md')\n",
    "\n",
    "# Function to get the installation path of a spacy model\n",
    "def get_model_path(model_name):\n",
    "    try:\n",
    "        model = spacy.load(model_name)\n",
    "        return model.path\n",
    "    except OSError:\n",
    "        print(f\"Model {model_name} is not installed.\")\n",
    "        return None\n",
    "\n",
    "# Folder names for the downloaded models\n",
    "models = ['en_core_web_sm', 'en_core_web_md']\n",
    "\n",
    "# Base directory where you want to save the models\n",
    "base_directory = 'C:\\\\Users\\\\s176444\\\\Documents\\\\VectorDB Practice'\n",
    "\n",
    "# New folder to save the models (within the base directory)\n",
    "new_folder_path = os.path.join(base_directory, 'spacy data')\n",
    "os.makedirs(new_folder_path, exist_ok=True)\n",
    "\n",
    "# Copy the models to the new folder\n",
    "for model in models:\n",
    "    model_path = get_model_path(model)\n",
    "    if model_path:\n",
    "        shutil.copytree(model_path, os.path.join(new_folder_path, model))\n"
   ]
  },
  {
   "cell_type": "markdown",
   "metadata": {},
   "source": [
    "### **The Doc Object for Processed Text**"
   ]
  },
  {
   "cell_type": "code",
   "execution_count": 36,
   "metadata": {},
   "outputs": [
    {
     "name": "stdout",
     "output_type": "stream",
     "text": [
      "['This', 'tutorial', 'is', 'about', 'Natural', 'Language', 'Processing', 'in', 'spaCy', '.']\n"
     ]
    }
   ],
   "source": [
    "import spacy\n",
    "import pathlib\n",
    "\n",
    "# Sample text to be written to the file\n",
    "sample_text = \"This tutorial is about Natural Language Processing in spaCy.\"\n",
    "\n",
    "# Path for the text file\n",
    "file_path = pathlib.Path('C:/Users/s176444/Documents/VectorDB Practice/introduction.txt')\n",
    "\n",
    "# Write the sample text to the file\n",
    "with file_path.open(mode='w', encoding='utf-8') as file:\n",
    "    file.write(sample_text)\n",
    "\n",
    "# Load the spaCy model\n",
    "nlp = spacy.load(\"en_core_web_sm\")\n",
    "\n",
    "# Read the file and process it with spaCy\n",
    "introduction_doc = nlp(file_path.read_text(encoding=\"utf-8\"))\n",
    "\n",
    "# Print tokens from the document\n",
    "print([token.text for token in introduction_doc])\n"
   ]
  },
  {
   "cell_type": "code",
   "execution_count": 37,
   "metadata": {},
   "outputs": [
    {
     "name": "stdout",
     "output_type": "stream",
     "text": [
      "['This', 'tutorial', 'is', 'about', 'Natural', 'Language', 'Processing', 'in', 'spaCy', '.']\n"
     ]
    }
   ],
   "source": [
    "import pathlib\n",
    "file_name = \"introduction.txt\"\n",
    "introduction_doc = nlp(pathlib.Path(file_name).read_text(encoding=\"utf-8\"))\n",
    "print ([token.text for token in introduction_doc])"
   ]
  },
  {
   "cell_type": "code",
   "execution_count": null,
   "metadata": {},
   "outputs": [],
   "source": [
    "#https://realpython.com/natural-language-processing-spacy-python/"
   ]
  }
 ],
 "metadata": {
  "kernelspec": {
   "display_name": "snowflakes",
   "language": "python",
   "name": "python3"
  },
  "language_info": {
   "codemirror_mode": {
    "name": "ipython",
    "version": 3
   },
   "file_extension": ".py",
   "mimetype": "text/x-python",
   "name": "python",
   "nbconvert_exporter": "python",
   "pygments_lexer": "ipython3",
   "version": "3.11.4"
  }
 },
 "nbformat": 4,
 "nbformat_minor": 2
}
